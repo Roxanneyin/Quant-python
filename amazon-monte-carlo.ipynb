{
 "cells": [
  {
   "cell_type": "markdown",
   "metadata": {},
   "source": [
    "# Simulate Amazon stock prices\n",
    "\n",
    "Using historical data from Yahoo for 2014-10-01 to 2016-09-30, we computed historical returnsin a Google sheet, and now we will do a Monte Carlo simulation using the standard deviation of returns."
   ]
  },
  {
   "cell_type": "code",
   "execution_count": 14,
   "metadata": {
    "scrolled": true
   },
   "outputs": [
    {
     "name": "stdout",
     "output_type": "stream",
     "text": [
      "Populating the interactive namespace from numpy and matplotlib\n"
     ]
    },
    {
     "data": {
      "text/plain": [
       "(array([ 0.00049248,  0.        ,  0.00049248,  0.00098496,  0.00098496,\n",
       "         0.0024624 ,  0.0024624 ,  0.00147744,  0.00344736,  0.00344736,\n",
       "         0.00393984,  0.00886465,  0.00640224,  0.00935713,  0.01280449,\n",
       "         0.01034209,  0.01428193,  0.01526689,  0.01575937,  0.01477441,\n",
       "         0.0251165 ,  0.01575937,  0.02216162,  0.02954882,  0.0251165 ,\n",
       "         0.0226541 ,  0.02413154,  0.0251165 ,  0.02462402,  0.02068418,\n",
       "         0.0201917 ,  0.01378945,  0.01428193,  0.01083457,  0.01132705,\n",
       "         0.01231201,  0.00886465,  0.00738721,  0.00541728,  0.00590976,\n",
       "         0.00393984,  0.00196992,  0.00098496,  0.00443232,  0.0024624 ,\n",
       "         0.00147744,  0.00147744,  0.00049248,  0.00049248,  0.        ]),\n",
       " array([ 786.79380803,  788.83045571,  790.86710339,  792.90375107,\n",
       "         794.94039874,  796.97704642,  799.0136941 ,  801.05034178,\n",
       "         803.08698946,  805.12363714,  807.16028482,  809.1969325 ,\n",
       "         811.23358018,  813.27022785,  815.30687553,  817.34352321,\n",
       "         819.38017089,  821.41681857,  823.45346625,  825.49011393,\n",
       "         827.52676161,  829.56340928,  831.60005696,  833.63670464,\n",
       "         835.67335232,  837.71      ,  839.74664768,  841.78329536,\n",
       "         843.81994304,  845.85659072,  847.89323839,  849.92988607,\n",
       "         851.96653375,  854.00318143,  856.03982911,  858.07647679,\n",
       "         860.11312447,  862.14977215,  864.18641982,  866.2230675 ,\n",
       "         868.25971518,  870.29636286,  872.33301054,  874.36965822,\n",
       "         876.4063059 ,  878.44295358,  880.47960126,  882.51624893,\n",
       "         884.55289661,  886.58954429,  888.62619197]),\n",
       " <a list of 50 Patch objects>)"
      ]
     },
     "execution_count": 14,
     "metadata": {},
     "output_type": "execute_result"
    },
    {
     "data": {
      "image/png": "[encoded data removed]",
      "text/plain": [
       "<matplotlib.figure.Figure at 0x25870ae4a58>"
      ]
     },
     "metadata": {},
     "output_type": "display_data"
    }
   ],
   "source": [
    "%pylab inline\n",
    "import numpy as np\n",
    "import matplotlib.pyplot as plt\n",
    "\n",
    "current_price = 837.71\n",
    "sigma_one_day = 0.02\n",
    "\n",
    "# for Monte Carlo, we generate random log returns, apply to the current price to find simulated future prices.\n",
    "num_trials = 1000\n",
    "mean_daily_return = 0\n",
    "simulated_log_returns = np.random.normal(mean_daily_return, sigma_one_day, num_trials)\n",
    "simulated_prices = [current_price * np.exp(ret) for ret in simulated_log_returns]\n",
    "\n",
    "num_bins = 50\n",
    "price_sigma = np.std(simulated_prices)\n",
    "plt.hist(simulated_prices, bins = num_bins, normed = True, align = 'left', rwidth = 0.3,\n",
    "         range = (current_price - 3 * price_sigma, current_price + 3 * price_sigma))"
   ]
  },
  {
   "cell_type": "code",
   "execution_count": null,
   "metadata": {
    "collapsed": true
   },
   "outputs": [],
   "source": []
  }
 ],
 "metadata": {
  "kernelspec": {
   "display_name": "Python 3",
   "language": "python",
   "name": "python3"
  },
  "language_info": {
   "codemirror_mode": {
    "name": "ipython",
    "version": 3
   },
   "file_extension": ".py",
   "mimetype": "text/x-python",
   "name": "python",
   "nbconvert_exporter": "python",
   "pygments_lexer": "ipython3",
   "version": "3.6.1"
  }
 },
 "nbformat": 4,
 "nbformat_minor": 2
}
