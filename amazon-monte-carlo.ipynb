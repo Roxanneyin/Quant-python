{
 "cells": [
  {
   "cell_type": "markdown",
   "metadata": {},
   "source": [
    "# Simulate Amazon stock prices\n",
    "\n",
    "Using historical data from Yahoo for 2014-10-01 to 2016-09-30, we computed historical returnsin a Google sheet, and now we will do a Monte Carlo simulation using the standard deviation of returns."
   ]
  },
  {
   "cell_type": "code",
   "execution_count": 7,
   "metadata": {
    "scrolled": true
   },
   "outputs": [
    {
     "name": "stdout",
     "output_type": "stream",
     "text": [
      "Populating the interactive namespace from numpy and matplotlib\n",
      "VaR = 2675.11910655\n",
      "ES = 3351.62700778\n"
     ]
    }
   ],
   "source": [
    "%pylab inline\n",
    "import numpy as np\n",
    "import matplotlib.pyplot as plt\n",
    "\n",
    "current_price = 837.71\n",
    "sigma_one_day = 0.02\n",
    "\n",
    "# for Monte Carlo, we generate random log returns, apply to the current price to find simulated future prices.\n",
    "num_trials = 10000\n",
    "mean_daily_return = 0\n",
    "simulated_log_returns = np.random.normal(mean_daily_return, sigma_one_day, num_trials)\n",
    "simulated_prices = [current_price * np.exp(ret) for ret in simulated_log_returns]\n",
    "\n",
    "num_shares_AMZN = 100\n",
    "profit_and_loss = [num_shares_AMZN * (price - current_price) for price in simulated_prices]\n",
    "var_quantile = 0.05\n",
    "VaR = -sorted(profit_and_loss)[int(var_quantile * num_trials)]\n",
    "print('VaR = ' + str(VaR))\n",
    "\n",
    "VaR_excessions = [loss for loss in profit_and_loss if loss < -VaR]\n",
    "ES = -np.mean(VaR_excessions)\n",
    "print('ES = ' + str(ES))\n",
    "\n",
    "# num_bins = 50\n",
    "# price_sigma = np.std(simulated_prices)\n",
    "# plt.hist(profit_and_loss, bins = num_bins, normed = True, align = 'left', rwidth = 0.3,\n",
    "#          range = (min(profit_and_loss), max(profit_and_loss))"
   ]
  },
  {
   "cell_type": "code",
   "execution_count": null,
   "metadata": {
    "collapsed": true
   },
   "outputs": [],
   "source": [
    "class PriceSeries(object)\n"
   ]
  }
 ],
 "metadata": {
  "kernelspec": {
   "display_name": "Python 3",
   "language": "python",
   "name": "python3"
  },
  "language_info": {
   "codemirror_mode": {
    "name": "ipython",
    "version": 3
   },
   "file_extension": ".py",
   "mimetype": "text/x-python",
   "name": "python",
   "nbconvert_exporter": "python",
   "pygments_lexer": "ipython3",
   "version": "3.6.1"
  }
 },
 "nbformat": 4,
 "nbformat_minor": 2
}
