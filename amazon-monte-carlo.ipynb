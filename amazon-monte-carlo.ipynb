{
 "cells": [
  {
   "cell_type": "markdown",
   "metadata": {},
   "source": [
    "# Simulate Amazon stock prices\n",
    "\n",
    "Using historical data from Yahoo for 2014-10-01 to 2016-09-30, we computed historical returnsin a Google sheet, and now we will do a Monte Carlo simulation using the standard deviation of returns."
   ]
  },
  {
   "cell_type": "code",
   "execution_count": 13,
   "metadata": {},
   "outputs": [
    {
     "name": "stdout",
     "output_type": "stream",
     "text": [
      "Populating the interactive namespace from numpy and matplotlib\n"
     ]
    },
    {
     "name": "stderr",
     "output_type": "stream",
     "text": [
      "C:\\Users\\Roxanne\\Anaconda3\\lib\\site-packages\\matplotlib\\axes\\_axes.py:6201: RuntimeWarning: invalid value encountered in true_divide\n",
      "  m = (m.astype(float) / db) / m.sum()\n"
     ]
    },
    {
     "data": {
      "text/plain": [
       "(array([ nan,  nan,  nan,  nan,  nan,  nan,  nan,  nan,  nan,  nan,  nan,\n",
       "         nan,  nan,  nan,  nan,  nan,  nan,  nan,  nan,  nan,  nan,  nan,\n",
       "         nan,  nan,  nan,  nan,  nan,  nan,  nan,  nan,  nan,  nan,  nan,\n",
       "         nan,  nan,  nan,  nan,  nan,  nan,  nan,  nan,  nan,  nan,  nan,\n",
       "         nan,  nan,  nan,  nan,  nan,  nan]),\n",
       " array([ 786.47014839,  788.51974245,  790.56933652,  792.61893058,\n",
       "         794.66852465,  796.71811871,  798.76771277,  800.81730684,\n",
       "         802.8669009 ,  804.91649497,  806.96608903,  809.0156831 ,\n",
       "         811.06527716,  813.11487123,  815.16446529,  817.21405936,\n",
       "         819.26365342,  821.31324748,  823.36284155,  825.41243561,\n",
       "         827.46202968,  829.51162374,  831.56121781,  833.61081187,\n",
       "         835.66040594,  837.71      ,  839.75959406,  841.80918813,\n",
       "         843.85878219,  845.90837626,  847.95797032,  850.00756439,\n",
       "         852.05715845,  854.10675252,  856.15634658,  858.20594064,\n",
       "         860.25553471,  862.30512877,  864.35472284,  866.4043169 ,\n",
       "         868.45391097,  870.50350503,  872.5530991 ,  874.60269316,\n",
       "         876.65228723,  878.70188129,  880.75147535,  882.80106942,\n",
       "         884.85066348,  886.90025755,  888.94985161]),\n",
       " <a list of 50 Patch objects>)"
      ]
     },
     "execution_count": 13,
     "metadata": {},
     "output_type": "execute_result"
    },
    {
     "data": {
      "image/png": "[encoded data removed]",
      "text/plain": [
       "<matplotlib.figure.Figure at 0x25870ade668>"
      ]
     },
     "metadata": {},
     "output_type": "display_data"
    }
   ],
   "source": [
    "%pylab inline\n",
    "import numpy as np\n",
    "import matplotlib.pyplot as plt\n",
    "\n",
    "current_price = 837.71\n",
    "sigma_one_day = 0.02\n",
    "\n",
    "# for Monte Carlo, we generate random log returns, apply to the current price to find simulated future prices.\n",
    "num_trials = 1000\n",
    "mean_daily_return = 0\n",
    "simulated_log_returns = np.random.normal(mean_daily_return, sigma_one_day, num_trials)\n",
    "simulated_prices = [current_price * np.exp(ret) for ret in simulated_log_returns]\n",
    "\n",
    "num_bins = 50\n",
    "price_sigma = np.std(simulated_prices)\n",
    "plt.hist(trials, bins = num_bins, normed = True, align = 'left', rwidth = 0.3,\n",
    "         range = (current_price - 3 * price_sigma, current_price + 3 * price_sigma))\n",
    "\n",
    "\n",
    "\n",
    "num_trials = 1000\n",
    "mean_daily_return = 0\n",
    "simulated_log_returns = np.random.normal(mean_daily_return, sigma_one_day, num_trials)\n",
    "simulated_prices = [current_price * np.exp(ret) for ret in simulated_log_returns]\n",
    "num_bins = 50\n",
    "price_sigma = np.std(simulated_prices)\n",
    "plt.hist(simulated_prices, bins = num_bins, normed = True, align = 'left', rwidth=0.3,\n",
    "         range=(current_price-3*price_sigma,current_price+3*price_sigma))"
   ]
  },
  {
   "cell_type": "code",
   "execution_count": null,
   "metadata": {
    "collapsed": true
   },
   "outputs": [],
   "source": []
  }
 ],
 "metadata": {
  "kernelspec": {
   "display_name": "Python 3",
   "language": "python",
   "name": "python3"
  },
  "language_info": {
   "codemirror_mode": {
    "name": "ipython",
    "version": 3
   },
   "file_extension": ".py",
   "mimetype": "text/x-python",
   "name": "python",
   "nbconvert_exporter": "python",
   "pygments_lexer": "ipython3",
   "version": "3.6.1"
  }
 },
 "nbformat": 4,
 "nbformat_minor": 2
}
