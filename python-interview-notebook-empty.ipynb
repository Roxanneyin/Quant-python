{
 "cells": [
  {
   "cell_type": "markdown",
   "metadata": {},
   "source": [
    "### 1.1\n",
    "What is the value of $\\sqrt{2}^{\\sqrt{2}^{{\\sqrt{2}^{...}}}}$?"
   ]
  },
  {
   "cell_type": "code",
   "execution_count": 34,
   "metadata": {},
   "outputs": [
    {
     "data": {
      "text/plain": [
       "1.9999999999999998"
      ]
     },
     "execution_count": 34,
     "metadata": {},
     "output_type": "execute_result"
    }
   ],
   "source": [
    "res = 2 ** 0.5\n",
    "i = 1\n",
    "for i in range(10000):\n",
    "    res = 2 ** (res/2)\n",
    "    i += 1\n",
    "res\n",
    "# 直接用数学的解法：a=根号2的a次幂，解方程求得a=2"
   ]
  },
  {
   "cell_type": "markdown",
   "metadata": {},
   "source": [
    "### 3.1\n",
    "You have a bag with two coins. One will come up heads 40% of the time, and the other will come up heads 60%. You pick a coin randomly, flip it and get a head. What is the probability it will be heads on the next flip?"
   ]
  },
  {
   "cell_type": "code",
   "execution_count": 44,
   "metadata": {},
   "outputs": [
    {
     "name": "stdout",
     "output_type": "stream",
     "text": [
      "Coin with p = 0.6\n"
     ]
    },
    {
     "data": {
      "text/plain": [
       "0.518"
      ]
     },
     "execution_count": 44,
     "metadata": {},
     "output_type": "execute_result"
    }
   ],
   "source": [
    "import random\n",
    "class Coin(object):\n",
    "    def __init__(self, p):\n",
    "        self.p = p\n",
    "        \n",
    "    def flip_is_head(self):\n",
    "        return random.random() < self.p\n",
    "    \n",
    "    def __repr__(self):\n",
    "        return 'Coin with p = ' + str(self.p)\n",
    "\n",
    "class Bag_of_coins(object):\n",
    "    def __init__(self):\n",
    "        self.coins = []\n",
    "        \n",
    "    def add_coins(self, coin):\n",
    "        self.coins.append(coin)\n",
    "        \n",
    "    def pick_random_coin(self):\n",
    "        return random.choice(self.coins)\n",
    "        \n",
    "x = Coin(0.6)\n",
    "print(x)\n",
    "bag = Bag_of_coins()\n",
    "bag.add_coins(Coin(0.4))\n",
    "bag.add_coins(Coin(0.6))\n",
    "\n",
    "\n",
    "num_trials = 1000\n",
    "trial_ctr = 0\n",
    "head_ctr = 0\n",
    "while trial_ctr < num_trials:\n",
    "    coin = bag.pick_random_coin()\n",
    "    if coin.flip_is_head():\n",
    "        trial_ctr += 1\n",
    "        if coin.flip_is_head():\n",
    "            head_ctr +=1\n",
    "head_ctr/trial_ctr"
   ]
  },
  {
   "cell_type": "code",
   "execution_count": 45,
   "metadata": {},
   "outputs": [
    {
     "data": {
      "text/plain": [
       "0.519"
      ]
     },
     "execution_count": 45,
     "metadata": {},
     "output_type": "execute_result"
    }
   ],
   "source": [
    "import numpy as np\n",
    "class Coin(object):\n",
    "    def __init__(self, p):\n",
    "        self.prob_heads = p\n",
    "        \n",
    "    def flip_is_head(self):\n",
    "        return np.random.random() < self.prob_heads\n",
    "    \n",
    "    def __repr__(self):\n",
    "        return 'Coin wih p = ' + str(self.prob_heads)\n",
    "    \n",
    "class Bag_of_Coins(object):\n",
    "    def __init__(self):\n",
    "        self.coins = []\n",
    "        \n",
    "    def add_coin(self, coin):\n",
    "        self.coins.append(coin)\n",
    "    \n",
    "    def pick_random_coin(self):\n",
    "        return np.random.choice(self.coins)\n",
    "    \n",
    "bag = Bag_of_Coins()\n",
    "bag.add_coin(Coin(0.4))\n",
    "bag.add_coin(Coin(0.6))\n",
    "bag.pick_random_coin()\n",
    "\n",
    "num_trials = 10000\n",
    "trial_ctr = 0 # trial count\n",
    "head_ctr = 0 # head count\n",
    "while trial_ctr < num_trials:\n",
    "    coin = bag.pick_random_coin()\n",
    "    if coin.flip_is_head():\n",
    "        trial_ctr += 1\n",
    "        if coin.flip_is_head():\n",
    "            head_ctr += 1\n",
    "head_ctr / trial_ctr"
   ]
  },
  {
   "cell_type": "markdown",
   "metadata": {},
   "source": [
    "### 3.5\n",
    "Starting at one vertex of a cube, and moving randomly from vertex to adjacent vertices, what is the expected number of moves until you reach the  vertex opposite from your starting point?"
   ]
  },
  {
   "cell_type": "code",
   "execution_count": 8,
   "metadata": {},
   "outputs": [
    {
     "name": "stdout",
     "output_type": "stream",
     "text": [
      "307\n",
      "17\n"
     ]
    }
   ],
   "source": [
    "import Euler as eu\n",
    "for i in range(500):\n",
    "    if eu.is_prime(i):\n",
    "        for j in range(100):\n",
    "            if 16 * i + 1 == j ** 3:\n",
    "                print(i)\n",
    "                print(j)"
   ]
  },
  {
   "cell_type": "markdown",
   "metadata": {},
   "source": [
    "### 3.8\n",
    "You have a spinner that generates random numbers that are uniform between 0 and 1. You sum the spins until the sum is greater than one. What is the expected number of spins?"
   ]
  },
  {
   "cell_type": "code",
   "execution_count": 24,
   "metadata": {},
   "outputs": [
    {
     "name": "stdout",
     "output_type": "stream",
     "text": [
      "Populating the interactive namespace from numpy and matplotlib\n"
     ]
    },
    {
     "data": {
      "text/plain": [
       "2.7185820000000001"
      ]
     },
     "execution_count": 24,
     "metadata": {},
     "output_type": "execute_result"
    },
    {
     "data": {
      "image/png": "[encoded data removed]",
      "text/plain": [
       "<matplotlib.figure.Figure at 0x2ce84b68240>"
      ]
     },
     "metadata": {},
     "output_type": "display_data"
    }
   ],
   "source": [
    "%pylab inline\n",
    "import numpy as np\n",
    "import matplotlib.pyplot as plt\n",
    "\n",
    "num_trials = 1000000\n",
    "\n",
    "def sim_num_of_spins_to_exceed_one():\n",
    "    sum_ = 0\n",
    "    count = 0\n",
    "    while sum_ <= 1:\n",
    "        sum_ += np.random.random()\n",
    "        count += 1\n",
    "    return count\n",
    "\n",
    "# end up with a list of the number of spins on each trial\n",
    "trials = [sim_num_of_spins_to_exceed_one() for _ in range(num_trials)]\n",
    "num_bins = np.max(trials) - np.min(trials) + 1\n",
    "plt.hist(trials, bins = num_bins, normed = True,\n",
    "         align = 'left', rwidth = 0.3, range = (2, 2 + num_bins))\n",
    "\n",
    "np.mean(trials)"
   ]
  },
  {
   "cell_type": "markdown",
   "metadata": {},
   "source": [
    "### 3.10\n",
    "A stick is broken randomly into 3 pieces. What is the probability of the pieces being able to form a triangle?"
   ]
  },
  {
   "cell_type": "code",
   "execution_count": null,
   "metadata": {
    "collapsed": true
   },
   "outputs": [],
   "source": []
  },
  {
   "cell_type": "markdown",
   "metadata": {},
   "source": [
    "### 3.11\n",
    "A stick is broken randomly into two pieces. The larger piece is then broken randomly into two pieces. What is the probability of the pieces being able to form a triangle?"
   ]
  },
  {
   "cell_type": "code",
   "execution_count": null,
   "metadata": {
    "collapsed": true
   },
   "outputs": [],
   "source": []
  },
  {
   "cell_type": "markdown",
   "metadata": {},
   "source": [
    "### 3.12\n",
    "This is based on a Goldman Sachs interview question. You play a game where you toss two fair coins in the air. You always win $1. However, if you have tossed 2 heads at least once, and 2 tails at least once, you surrender all winnings, and cannot play again. You may stop playing at anytime. What’s your strategy?"
   ]
  },
  {
   "cell_type": "code",
   "execution_count": 15,
   "metadata": {},
   "outputs": [
    {
     "name": "stdout",
     "output_type": "stream",
     "text": [
      "Populating the interactive namespace from numpy and matplotlib\n"
     ]
    },
    {
     "data": {
      "text/plain": [
       "2.4199000000000002"
      ]
     },
     "execution_count": 15,
     "metadata": {},
     "output_type": "execute_result"
    },
    {
     "data": {
      "image/png": "[encoded data removed]",
      "text/plain": [
       "<matplotlib.figure.Figure at 0x1cee19586d8>"
      ]
     },
     "metadata": {},
     "output_type": "display_data"
    }
   ],
   "source": [
    "# 1 * 1/4 - x * 1/4 = 0\n",
    "%pylab inline\n",
    "import numpy as np\n",
    "import matplotlib.pyplot as plt\n",
    "\n",
    "class TwoDiceGame(object):\n",
    "    def play(self):\n",
    "        winnings = 0\n",
    "        two_of_same_seen = False\n",
    "        while True:\n",
    "            if two_of_same_seen:\n",
    "                if winnings >= 3:\n",
    "                    # our strategy: quit if we have 3+ in this case\n",
    "                    return winnings\n",
    "                if np.random.randint(4) == 0:\n",
    "                    # bad luck: both HH and TT seen, lost it all\n",
    "                    return 0\n",
    "            else:\n",
    "                two_of_same_seen = np.random.randint(2) == 0\n",
    "            winnings += 1\n",
    "\n",
    "\n",
    "game = TwoDiceGame()\n",
    "num_trials = 10000\n",
    "trials = [game.play() for _ in range(num_trials)]\n",
    "num_bins = np.max(trials) - np.min(trials) + 1\n",
    "plt.hist(trials, bins = num_bins, normed = True, align = 'left', rwidth = 0.3, range = (0, num_bins))\n",
    "\n",
    "np.mean(trials)"
   ]
  },
  {
   "cell_type": "markdown",
   "metadata": {},
   "source": [
    "### 5.2\n",
    "You have a basket of $n$ assets. The asset returns are multivariate normal with zero mean. Correlation between any pair of assets is 1/2. What is the probability that $k$ of the assets will have positive return?"
   ]
  },
  {
   "cell_type": "code",
   "execution_count": null,
   "metadata": {
    "collapsed": true
   },
   "outputs": [],
   "source": []
  }
 ],
 "metadata": {
  "kernelspec": {
   "display_name": "Python 3",
   "language": "python",
   "name": "python3"
  },
  "language_info": {
   "codemirror_mode": {
    "name": "ipython",
    "version": 3
   },
   "file_extension": ".py",
   "mimetype": "text/x-python",
   "name": "python",
   "nbconvert_exporter": "python",
   "pygments_lexer": "ipython3",
   "version": "3.6.1"
  }
 },
 "nbformat": 4,
 "nbformat_minor": 1
}
