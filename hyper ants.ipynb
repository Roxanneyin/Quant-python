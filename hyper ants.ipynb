{
 "cells": [
  {
   "cell_type": "markdown",
   "metadata": {},
   "source": [
    "# Hyper-ants: ants traveling in hyperspace\n",
    "\n",
    "An ant is at the origin in n-dimensional Euclidean space, and is about to traverse the edges of a hypercube with sides of unit length. At each vertex, the ant randomly chooses an edge, and moves to the next vertex. On average, how far will the ant travel until it reaches(1,1,...,1)?"
   ]
  },
  {
   "cell_type": "code",
   "execution_count": 17,
   "metadata": {},
   "outputs": [
    {
     "data": {
      "text/plain": [
       "{3: 4, 5: 1, 9: 2, 11: 1, 17: 1, 21: 1}"
      ]
     },
     "execution_count": 17,
     "metadata": {},
     "output_type": "execute_result"
    }
   ],
   "source": [
    "from random import randint\n",
    "\n",
    "def number_of_moves(dimension):\n",
    "    # return the number of moves needed for\n",
    "    # one simulated trip by the ant\n",
    "    vertex = [0] * dimension\n",
    "    move_count = 0\n",
    "    while sum(vertex) < dimension:\n",
    "        axis_choice = randint(0, dimension - 1)\n",
    "        vertex[axis_choice] = 1 - vertex[axis_choice]\n",
    "        move_count += 1\n",
    "    return move_count\n",
    "\n",
    "number_of_trials = 10\n",
    "# sum([number_of_moves(3) for i in range(number_of_trials)]) / number_of_trials\n",
    "trials = ([number_of_moves(3) for i in range(number_of_trials)])\n",
    "# initialize dictionary to count frequency of number of moves\n",
    "number_moves_count = {trial:0 for trial in trials}\n",
    "for trial in trials:\n",
    "    number_moves_count[trial] += 1\n",
    "    \n",
    "number_moves_count"
   ]
  },
  {
   "cell_type": "code",
   "execution_count": null,
   "metadata": {
    "collapsed": true
   },
   "outputs": [],
   "source": []
  },
  {
   "cell_type": "code",
   "execution_count": null,
   "metadata": {
    "collapsed": true
   },
   "outputs": [],
   "source": []
  }
 ],
 "metadata": {
  "kernelspec": {
   "display_name": "Python 3",
   "language": "python",
   "name": "python3"
  },
  "language_info": {
   "codemirror_mode": {
    "name": "ipython",
    "version": 3
   },
   "file_extension": ".py",
   "mimetype": "text/x-python",
   "name": "python",
   "nbconvert_exporter": "python",
   "pygments_lexer": "ipython3",
   "version": "3.6.1"
  }
 },
 "nbformat": 4,
 "nbformat_minor": 2
}
